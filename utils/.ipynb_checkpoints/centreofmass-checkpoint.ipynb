{
 "cells": [
  {
   "cell_type": "markdown",
   "id": "381df901-7128-4795-b408-74517df1a070",
   "metadata": {},
   "source": [
    "# Finding Centre of Mass of Ligands for Docking using LeDock"
   ]
  },
  {
   "cell_type": "code",
   "execution_count": 32,
   "id": "97999055-4041-4cc9-8b86-74359cb0e2f0",
   "metadata": {},
   "outputs": [],
   "source": [
    "from rdkit import Chem\n",
    "from rdkit.Geometry import Point3D\n",
    "\n",
    "import pandas as pd\n",
    "import numpy as np\n",
    "import os, glob"
   ]
  },
  {
   "cell_type": "code",
   "execution_count": 67,
   "id": "3cb83472-fbab-4e4a-9825-7be9dd7c99a4",
   "metadata": {},
   "outputs": [],
   "source": [
    "def calculate_centre_of_mass(sdf_file):\n",
    "    # Read the .sdf file\n",
    "    mol = Chem.SDMolSupplier(sdf_file, removeHs = False, sanitize = False)[0]\n",
    "    # Assuming there is only one molecule in the file\n",
    "\n",
    "    # Calculate the center of mass\n",
    "    centre_of_mass = np.array([0.0, 0.0, 0.0])\n",
    "    total_mass = 0.0\n",
    "    \n",
    "    for atom in mol.GetAtoms():\n",
    "        _atom_mass = atom.GetMass()\n",
    "        _atom_coords = mol.GetConformer().GetAtomPosition(atom.GetIdx())\n",
    "        atom_mass = np.array([_atom_mass, _atom_mass, _atom_mass])\n",
    "        atom_coords = np.array([_atom_coords[0], _atom_coords[1], _atom_coords[2]])\n",
    "        centre_of_mass += atom_mass * atom_coords\n",
    "        total_mass += _atom_mass\n",
    "    \n",
    "    centre_of_mass /= np.array([total_mass, total_mass, total_mass])\n",
    "\n",
    "    return centre_of_mass"
   ]
  },
  {
   "cell_type": "markdown",
   "id": "4115db8d-f6b5-4621-ad5b-673adfe85e55",
   "metadata": {},
   "source": [
    "Assume that you have stored the PDBbind database at the directory as mentioned."
   ]
  },
  {
   "cell_type": "code",
   "execution_count": 60,
   "id": "3a8c1720-9b2f-4380-b1f7-3f8e8e562006",
   "metadata": {},
   "outputs": [
    {
     "data": {
      "image/png": "[encoded data removed]",
      "text/plain": [
       "<rdkit.Chem.rdchem.Mol at 0x7fde03874d00>"
      ]
     },
     "execution_count": 60,
     "metadata": {},
     "output_type": "execute_result"
    }
   ],
   "source": [
    "mol2_file_path = '../../download/v2020-other-PL/11gs/11gs_ligand.sdf'\n",
    "mol = Chem.SDMolSupplier(mol2_file_path)[0]\n",
    "mol"
   ]
  },
  {
   "cell_type": "code",
   "execution_count": 61,
   "id": "3c8f3f17-3c2f-4fdb-8ea1-d18e490ca750",
   "metadata": {},
   "outputs": [
    {
     "name": "stdout",
     "output_type": "stream",
     "text": [
      "Centre of Mass: 9.217, 5.222, 27.027\n"
     ]
    }
   ],
   "source": [
    "com = calculate_centre_of_mass(mol2_file_path)\n",
    "print(f\"Centre of Mass: {com[0]:.3f}, {com[1]:.3f}, {com[2]:.3f}\")"
   ]
  },
  {
   "cell_type": "code",
   "execution_count": 62,
   "id": "69148dab-9b3c-4f6b-b879-3fee0c672d83",
   "metadata": {},
   "outputs": [
    {
     "name": "stdout",
     "output_type": "stream",
     "text": [
      "[ 9.21687027  5.22203154 27.02683079]\n"
     ]
    }
   ],
   "source": [
    "centre_of_mass = np.array([0.0, 0.0, 0.0])\n",
    "total_mass = 0.0\n",
    "for atom in mol.GetAtoms():\n",
    "    _atom_mass = atom.GetMass()\n",
    "    _atom_coords = mol.GetConformer().GetAtomPosition(atom.GetIdx())\n",
    "    atom_mass = np.array([_atom_mass, _atom_mass, _atom_mass])\n",
    "    atom_coords = np.array([_atom_coords[0], _atom_coords[1], _atom_coords[2]])\n",
    "    centre_of_mass += atom_mass * atom_coords\n",
    "    total_mass += _atom_mass\n",
    "centre_of_mass /= np.array([total_mass, total_mass, total_mass])\n",
    "print(centre_of_mass)"
   ]
  },
  {
   "cell_type": "markdown",
   "id": "eaef74b2-3302-4004-b157-72fbda10a934",
   "metadata": {},
   "source": [
    "Now, we performed calculation on all compounds."
   ]
  },
  {
   "cell_type": "code",
   "execution_count": 63,
   "id": "33ecf5dd-980f-42a4-91b0-3aa607bc68ec",
   "metadata": {},
   "outputs": [
    {
     "name": "stdout",
     "output_type": "stream",
     "text": [
      "There are 14129 files in General Set and 5318 files in the Refined Set.\n"
     ]
    }
   ],
   "source": [
    "filePathtoGeneralSet = glob.glob(os.path.join('../../download/v2020-other-PL', \"*\"))\n",
    "filePathtoRefinedSet = glob.glob(os.path.join('../../download/refined-set', \"*\"))\n",
    "print(f\"There are {len(filePathtoGeneralSet)} files in General Set and {len(filePathtoRefinedSet)} files in the Refined Set.\")"
   ]
  },
  {
   "cell_type": "markdown",
   "id": "e7c97e8e-d4cd-42c4-a75b-d4569452c66c",
   "metadata": {},
   "source": [
    "For general set,"
   ]
  },
  {
   "cell_type": "code",
   "execution_count": 70,
   "id": "d2509b7c-25d1-49d3-bfd1-2a3cee65e6af",
   "metadata": {},
   "outputs": [
    {
     "name": "stderr",
     "output_type": "stream",
     "text": [
      "[03:44:12] \n",
      "\n",
      "****\n",
      "Post-condition Violation\n",
      "Element 'Du' not found\n",
      "Violation occurred on line 93 in file /home/conda/feedstock_root/build_artifacts/rdkit_1651075169244/work/Code/GraphMol/PeriodicTable.h\n",
      "Failed Expression: anum > -1\n",
      "****\n",
      "\n",
      "[03:44:12] ERROR: Element 'Du' not found\n",
      "[03:44:12] ERROR: moving to the beginning of the next molecule\n",
      "[03:44:16] \n",
      "\n",
      "****\n",
      "Post-condition Violation\n",
      "Element 'Du' not found\n",
      "Violation occurred on line 93 in file /home/conda/feedstock_root/build_artifacts/rdkit_1651075169244/work/Code/GraphMol/PeriodicTable.h\n",
      "Failed Expression: anum > -1\n",
      "****\n",
      "\n",
      "[03:44:16] ERROR: Element 'Du' not found\n",
      "[03:44:16] ERROR: moving to the beginning of the next molecule\n",
      "[03:44:18] \n",
      "\n",
      "****\n",
      "Post-condition Violation\n",
      "Element 'Du' not found\n",
      "Violation occurred on line 93 in file /home/conda/feedstock_root/build_artifacts/rdkit_1651075169244/work/Code/GraphMol/PeriodicTable.h\n",
      "Failed Expression: anum > -1\n",
      "****\n",
      "\n",
      "[03:44:18] ERROR: Element 'Du' not found\n",
      "[03:44:18] ERROR: moving to the beginning of the next molecule\n",
      "[03:44:27] \n",
      "\n",
      "****\n",
      "Post-condition Violation\n",
      "Element 'Du' not found\n",
      "Violation occurred on line 93 in file /home/conda/feedstock_root/build_artifacts/rdkit_1651075169244/work/Code/GraphMol/PeriodicTable.h\n",
      "Failed Expression: anum > -1\n",
      "****\n",
      "\n",
      "[03:44:27] ERROR: Element 'Du' not found\n",
      "[03:44:27] ERROR: moving to the beginning of the next molecule\n",
      "[03:44:39] \n",
      "\n",
      "****\n",
      "Post-condition Violation\n",
      "Element 'Du' not found\n",
      "Violation occurred on line 93 in file /home/conda/feedstock_root/build_artifacts/rdkit_1651075169244/work/Code/GraphMol/PeriodicTable.h\n",
      "Failed Expression: anum > -1\n",
      "****\n",
      "\n",
      "[03:44:39] ERROR: Element 'Du' not found\n",
      "[03:44:39] ERROR: moving to the beginning of the next molecule\n"
     ]
    },
    {
     "name": "stdout",
     "output_type": "stream",
     "text": [
      "Excluded molecules: ['2foy', '3bho', '2fov', '3qlb', '2fou']\n"
     ]
    }
   ],
   "source": [
    "id, coords_x, coords_y, coords_z, exclusion_list = list(), list(), list(), list(), list()\n",
    "for i in range(len(filePathtoGeneralSet)):\n",
    "    _id = str(filePathtoGeneralSet[i].split(\"/\")[-1])\n",
    "    if _id in ['index', 'readme']: continue\n",
    "    try:\n",
    "        com = calculate_centre_of_mass(filePathtoGeneralSet[i] + \"/\" + _id + \"_ligand.sdf\")\n",
    "    except AttributeError:\n",
    "        exclusion_list.append(_id)\n",
    "        continue\n",
    "    id.append(_id)\n",
    "    coords_x.append(round(com[0], 3))\n",
    "    coords_y.append(round(com[1], 3))\n",
    "    coords_z.append(round(com[2], 3))\n",
    "comGeneralSet = {'pdb_id': id, 'com_x': coords_x, 'com_y': coords_y, 'com_z': coords_z}\n",
    "df = pd.DataFrame(comGeneralSet)\n",
    "with open('general-set-com.txt', 'a') as file:\n",
    "    df_string = df.to_string(header=False, index=False)\n",
    "    file.write(df_string)\n",
    "\n",
    "print(f\"Excluded molecules: {exclusion_list}\")"
   ]
  },
  {
   "cell_type": "markdown",
   "id": "f2a5d5ce-1299-4672-9223-e9043e130a77",
   "metadata": {},
   "source": [
    "For refined set,"
   ]
  },
  {
   "cell_type": "code",
   "execution_count": 72,
   "id": "b43c6a48-b33c-4ffb-9d5a-4109b0b8b850",
   "metadata": {},
   "outputs": [
    {
     "name": "stdout",
     "output_type": "stream",
     "text": [
      "Excluded molecules: []\n"
     ]
    }
   ],
   "source": [
    "id, coords_x, coords_y, coords_z, exclusion_list = list(), list(), list(), list(), list()\n",
    "for i in range(len(filePathtoRefinedSet)):\n",
    "    _id = str(filePathtoRefinedSet[i].split(\"/\")[-1])\n",
    "    if _id in ['index', 'readme']: continue\n",
    "    try:\n",
    "        com = calculate_centre_of_mass(filePathtoRefinedSet[i] + \"/\" + _id + \"_ligand.sdf\")\n",
    "    except AttributeError:\n",
    "        exclusion_list.append(_id)\n",
    "        continue\n",
    "    id.append(_id)\n",
    "    coords_x.append(round(com[0], 3))\n",
    "    coords_y.append(round(com[1], 3))\n",
    "    coords_z.append(round(com[2], 3))\n",
    "comRefinedSet = {'pdb_id': id, 'com_x': coords_x, 'com_y': coords_y, 'com_z': coords_z}\n",
    "df = pd.DataFrame(comRefinedSet)\n",
    "with open('refined-set-com.txt', 'a') as file:\n",
    "    df_string = df.to_string(header=False, index=False)\n",
    "    file.write(df_string)\n",
    "\n",
    "print(f\"Excluded molecules: {exclusion_list}\")"
   ]
  },
  {
   "cell_type": "code",
   "execution_count": null,
   "id": "d97e1536-aa70-4b09-ba4d-a43582f065f6",
   "metadata": {},
   "outputs": [],
   "source": []
  }
 ],
 "metadata": {
  "kernelspec": {
   "display_name": "Python 3 (ipykernel)",
   "language": "python",
   "name": "python3"
  },
  "language_info": {
   "codemirror_mode": {
    "name": "ipython",
    "version": 3
   },
   "file_extension": ".py",
   "mimetype": "text/x-python",
   "name": "python",
   "nbconvert_exporter": "python",
   "pygments_lexer": "ipython3",
   "version": "3.10.12"
  }
 },
 "nbformat": 4,
 "nbformat_minor": 5
}
